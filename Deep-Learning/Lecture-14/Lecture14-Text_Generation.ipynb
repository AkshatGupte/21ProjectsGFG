{
 "cells": [
  {
   "cell_type": "code",
   "execution_count": 4,
   "id": "c82ffabc",
   "metadata": {},
   "outputs": [],
   "source": [
    "import re\n",
    "import torch\n",
    "from transformers import AutoTokenizer, AutoModelForCausalLM"
   ]
  },
  {
   "cell_type": "code",
   "execution_count": null,
   "id": "e25ffa5a",
   "metadata": {},
   "outputs": [
    {
     "name": "stdout",
     "output_type": "stream",
     "text": [
      "Loaded gpt2 on cpu.\n"
     ]
    }
   ],
   "source": [
    "MODEL_NAME = \"gpt2\" \n",
    "\n",
    "# Load tokenizer & model\n",
    "tokenizer = AutoTokenizer.from_pretrained(MODEL_NAME)\n",
    "\n",
    "\n",
    "if tokenizer.pad_token is None:\n",
    "    tokenizer.pad_token = tokenizer.eos_token\n",
    "\n",
    "model = AutoModelForCausalLM.from_pretrained(MODEL_NAME)\n",
    "\n",
    "\n",
    "model.resize_token_embeddings(len(tokenizer))\n",
    "\n",
    "\n",
    "device = torch.device(\"cuda\" if torch.cuda.is_available() else \"cpu\")\n",
    "model.to(device)\n",
    "\n",
    "print(f\"Loaded {MODEL_NAME} on {device}.\")\n"
   ]
  },
  {
   "cell_type": "code",
   "execution_count": 21,
   "id": "d99435c8",
   "metadata": {},
   "outputs": [],
   "source": [
    "def is_coding_question(prompt):\n",
    "\n",
    "    coding_keywords = [\"python\", \"code\", \"function\", \"class\", \"import\", \"def \", \"lambda\", \"list\", \"dict\", \"tuple\", \"set\", \"string\", \"int\", \"float\", \"bool\", \"if \", \"else\", \"elif\", \"for \", \"while\"]\n",
    "    prompt_lower = prompt.lower()\n",
    "    for keyword in coding_keywords:\n",
    "        if keyword in prompt_lower:\n",
    "            return True\n",
    "    return False\n",
    "\n",
    "\n",
    "def answer_question(prompt, max_len=100):\n",
    "\n",
    "    if is_coding_question(prompt):\n",
    "        inputs = tokenizer(\n",
    "            prompt,\n",
    "            return_tensors='pt',\n",
    "            padding=True,\n",
    "            return_attention_mask=True\n",
    "        )\n",
    "\n",
    "        # Generate response\n",
    "        output = model.generate(\n",
    "            input_ids=inputs['input_ids'],\n",
    "            attention_mask=inputs['attention_mask'],\n",
    "            max_length=max_len,\n",
    "            num_return_sequences=1,\n",
    "            no_repeat_ngram_size=2,\n",
    "            pad_token_id=tokenizer.pad_token_id,\n",
    "            eos_token_id=tokenizer.eos_token_id\n",
    "        )\n",
    "\n",
    "        generated_text = tokenizer.decode(output[0], skip_special_tokens=True)\n",
    "        return generated_text\n",
    "    else:\n",
    "        return \"I can only answer questions related to Python coding.\"\n",
    "     "
   ]
  },
  {
   "cell_type": "markdown",
   "id": "120d5b95",
   "metadata": {},
   "source": [
    "### Test Case 1"
   ]
  },
  {
   "cell_type": "code",
   "execution_count": 22,
   "id": "c0aefe73",
   "metadata": {},
   "outputs": [
    {
     "name": "stdout",
     "output_type": "stream",
     "text": [
      "Prompt: 'How to define a function in Python?'\n",
      "Response: How to define a function in Python?\n",
      "\n",
      "The following code snippet shows how to use the function to create a new object.\n",
      ".py\n",
      " ( defn create-object ( object ) ( if ( not ( isinstance ( obj ) ) object )) ( let ((name ( string ) name ))))\n",
      ", and\n",
      ":\n",
      "( defvar create ( new-obj ) \" Create a newly created object \" ( create new )\n",
      "This code is very similar to the above code, but\n",
      "\n"
     ]
    }
   ],
   "source": [
    "\n",
    "print(f\"Prompt: 'How to define a function in Python?'\")\n",
    "print(f\"Response: {answer_question('How to define a function in Python?')}\\n\")\n"
   ]
  },
  {
   "cell_type": "markdown",
   "id": "c3730617",
   "metadata": {},
   "source": [
    "### Test Case 2"
   ]
  },
  {
   "cell_type": "code",
   "execution_count": 20,
   "id": "5c8cb8b7",
   "metadata": {},
   "outputs": [
    {
     "name": "stdout",
     "output_type": "stream",
     "text": [
      "Prompt: 'Tell me a story.'\n",
      "Response: I can only answer questions related to Python coding.\n",
      "\n"
     ]
    }
   ],
   "source": [
    "\n",
    "print(f\"Prompt: 'Tell me a story.'\")\n",
    "print(f\"Response: {answer_question('Tell me a story.')}\\n\")"
   ]
  },
  {
   "cell_type": "code",
   "execution_count": null,
   "id": "390ea85b",
   "metadata": {},
   "outputs": [],
   "source": []
  }
 ],
 "metadata": {
  "kernelspec": {
   "display_name": "medichat",
   "language": "python",
   "name": "python3"
  },
  "language_info": {
   "codemirror_mode": {
    "name": "ipython",
    "version": 3
   },
   "file_extension": ".py",
   "mimetype": "text/x-python",
   "name": "python",
   "nbconvert_exporter": "python",
   "pygments_lexer": "ipython3",
   "version": "3.10.18"
  }
 },
 "nbformat": 4,
 "nbformat_minor": 5
}
