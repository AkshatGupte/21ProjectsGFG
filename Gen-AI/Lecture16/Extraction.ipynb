{
 "cells": [
  {
   "cell_type": "code",
   "execution_count": 11,
   "id": "8e635596",
   "metadata": {},
   "outputs": [],
   "source": [
    "import os\n",
    "import cv2\n",
    "import numpy as np\n",
    "import fitz  # PyMuPDF\n",
    "import pytesseract\n",
    "\n",
    "def convert_to_grayscale(image):\n",
    "    return cv2.cvtColor(image, cv2.COLOR_BGR2GRAY)\n",
    "\n",
    "def reduce_noise(image):\n",
    "    return cv2.GaussianBlur(image, (5, 5), 0)\n",
    "\n",
    "def binarize_image(image):\n",
    "    return cv2.adaptiveThreshold(\n",
    "        image, 255, cv2.ADAPTIVE_THRESH_GAUSSIAN_C, cv2.THRESH_BINARY, 11, 2\n",
    "    )\n",
    "\n",
    "def deskew_image(image):\n",
    "    coords = np.column_stack(np.where(image > 0))\n",
    "    angle = cv2.minAreaRect(coords)[-1]\n",
    "    if angle < -45:\n",
    "        angle = -(90 + angle)\n",
    "    else:\n",
    "        angle = -angle\n",
    "    (h, w) = image.shape[:2]\n",
    "    center = (w // 2, h // 2)\n",
    "    M = cv2.getRotationMatrix2D(center, angle, 1.0)\n",
    "    return cv2.warpAffine(image, M, (w, h), flags=cv2.INTER_CUBIC, borderMode=cv2.BORDER_REPLICATE)\n",
    "\n",
    "def process_one_image(image):\n",
    "    image = convert_to_grayscale(image)\n",
    "    print(\"Converted image to grayscale..\")\n",
    "    image = reduce_noise(image)\n",
    "    print(\"Reduced noise in the image..\")\n",
    "    image = binarize_image(image)\n",
    "    print(\"Binarized the image..\")\n",
    "    image = deskew_image(image)\n",
    "    print(\"Corrected image orientation..\")\n",
    "    return image"
   ]
  },
  {
   "cell_type": "code",
   "execution_count": 12,
   "id": "f150df87",
   "metadata": {},
   "outputs": [
    {
     "name": "stdout",
     "output_type": "stream",
     "text": [
      "Converted 5 PDFs to images.\n"
     ]
    }
   ],
   "source": [
    "pdf_folder = \"Resume\"\n",
    "image_output_folder = \"ResumeImages\"\n",
    "os.makedirs(image_output_folder, exist_ok=True)\n",
    "\n",
    "pdf_files = [f for f in os.listdir(pdf_folder) if f.lower().endswith('.pdf')]\n",
    "all_image_paths = []\n",
    "\n",
    "for pdf_file in pdf_files:\n",
    "    pdf_path = os.path.join(pdf_folder, pdf_file)\n",
    "    doc = fitz.open(pdf_path)\n",
    "    page = doc.load_page(0)  # first page (0-indexed)\n",
    "    pix = page.get_pixmap()\n",
    "    img_path = os.path.join(image_output_folder, f\"{os.path.splitext(pdf_file)[0]}_page_1.png\")\n",
    "    pix.save(img_path)\n",
    "    all_image_paths.append(img_path)\n",
    "    doc.close()\n",
    "print(f\"Converted {len(all_image_paths)} PDFs to images.\")"
   ]
  },
  {
   "cell_type": "code",
   "execution_count": 13,
   "id": "e0f0dc62",
   "metadata": {},
   "outputs": [
    {
     "name": "stdout",
     "output_type": "stream",
     "text": [
      "Converted image to grayscale..\n",
      "Reduced noise in the image..\n",
      "Binarized the image..\n",
      "Corrected image orientation..\n",
      "Extracted text from ResumeImages\\10030015_page_1.png:\n",
      "RN Oe RE TES Bee ne oes Se ee eS Ce eee A\n",
      "Stas pa ca wt pee een Sey ch eee,\n",
      "\n",
      "© ames beget ma me cect a aa\n",
      "\n",
      "4 Chacr ake amet wag and ie mae rg\n",
      "\n",
      "Exgmoriy Yams Se. Sperbe Agr S42 O48 2006\n",
      "Compey Nema 6 a...\n",
      "\n",
      "Converted image to grayscale..\n",
      "Reduced noise in the image..\n",
      "Binarized the image..\n",
      "Corrected image orientation..\n",
      "Extracted text from ResumeImages\\10674770_page_1.png:\n",
      "oom\n",
      "\n",
      "(Bache of Sccmon: Acoma by 240 Uertyof ar Com 74 Cry, Se Arm.\n",
      "(atcha of Sons, Rae Alemmaton fmt, ey 2010 Paaem Abemnaacn Toe\n",
      "Cyr\n",
      "\n",
      "‘Sad eee\n",
      "\n",
      "Aap 216 Osa O14 Compeny Res FC Se\n",
      "\n",
      "(ected of mpm on oct...\n",
      "\n",
      "Converted image to grayscale..\n",
      "Reduced noise in the image..\n",
      "Binarized the image..\n",
      "Corrected image orientation..\n",
      "Extracted text from ResumeImages\\10889157_page_1.png:\n",
      "ee enn ene ee eee ee En ese ee OS ee ee Oe\n",
      "sees omy Ree ed ek Soe Nemo. ec, Rm Accs dg aac Langman seg walang of\n",
      "nem aye Clete a enter Ou Lela of hear meyer rd cf bec ow tmtng et ed tm ro\n",
      "(hn Se in cm...\n",
      "\n",
      "Converted image to grayscale..\n",
      "Reduced noise in the image..\n",
      "Binarized the image..\n",
      "Corrected image orientation..\n",
      "Extracted text from ResumeImages\\11490673_page_1.png:\n",
      "on\n",
      "Cs Regen tacnarnryoer\n",
      "\n",
      "BS Scr lit\n",
      "HeerrsLesaeel\n",
      "\n",
      "earrien\n",
      "‘epee 201} we Chem Compeny News O6Chy, Sate\n",
      "\n",
      "feeding tn rr stamped fa PAL prem nb TA dmg ped eS,\n",
      "© rect nin cuerane tommy tty dh on me\n",
      "\n",
      "© Co...\n",
      "\n",
      "Converted image to grayscale..\n",
      "Reduced noise in the image..\n",
      "Binarized the image..\n",
      "Corrected image orientation..\n",
      "Extracted text from ResumeImages\\13393401_page_1.png:\n",
      "A crn, inamtpamnal\n",
      "pa\n",
      "+ Pemyoean\n",
      "© Cum Tecnant bain\n",
      "\n",
      "Patent poe\n",
      "Cet Opening Okt\n",
      "‘ou Sy fomery 2008 Compny me Cop Sa\n",
      "\n",
      "1 Necned yr Ba of Daca me COO,\n",
      "\n",
      "‘© Quaren al age oft 35+ ye lf met pactce camped of...\n",
      "\n"
     ]
    }
   ],
   "source": [
    "pytesseract.pytesseract.tesseract_cmd = r'C:\\Program Files\\Tesseract-OCR\\tesseract.exe'  # Update path if needed\n",
    "\n",
    "ocr_results = {}\n",
    "for img_path in all_image_paths:\n",
    "    image = cv2.imread(img_path)\n",
    "    processed_img = process_one_image(image)\n",
    "    text = pytesseract.image_to_string(processed_img)\n",
    "    ocr_results[img_path] = text\n",
    "    print(f\"Extracted text from {img_path}:\\n{text[:200]}...\\n\")  # Show first 200 chars"
   ]
  },
  {
   "cell_type": "code",
   "execution_count": 14,
   "id": "ad3ae5fb",
   "metadata": {},
   "outputs": [
    {
     "name": "stdout",
     "output_type": "stream",
     "text": [
      "OCR results saved to ResumeOCR\n"
     ]
    }
   ],
   "source": [
    "ocr_output_folder = \"ResumeOCR\"\n",
    "os.makedirs(ocr_output_folder, exist_ok=True)\n",
    "\n",
    "for img_path, text in ocr_results.items():\n",
    "    base_name = os.path.basename(img_path).replace('.png', '.txt')\n",
    "    out_path = os.path.join(ocr_output_folder, base_name)\n",
    "    with open(out_path, \"w\", encoding=\"utf-8\") as f:\n",
    "        f.write(text)\n",
    "print(f\"OCR results saved to {ocr_output_folder}\")"
   ]
  },
  {
   "cell_type": "code",
   "execution_count": null,
   "id": "21d2c616",
   "metadata": {},
   "outputs": [],
   "source": []
  }
 ],
 "metadata": {
  "kernelspec": {
   "display_name": "medichat",
   "language": "python",
   "name": "python3"
  },
  "language_info": {
   "codemirror_mode": {
    "name": "ipython",
    "version": 3
   },
   "file_extension": ".py",
   "mimetype": "text/x-python",
   "name": "python",
   "nbconvert_exporter": "python",
   "pygments_lexer": "ipython3",
   "version": "3.10.18"
  }
 },
 "nbformat": 4,
 "nbformat_minor": 5
}
