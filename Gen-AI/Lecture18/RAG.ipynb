{
 "cells": [
  {
   "cell_type": "code",
   "execution_count": 2,
   "id": "9171faee",
   "metadata": {},
   "outputs": [],
   "source": [
    "import os"
   ]
  },
  {
   "cell_type": "code",
   "execution_count": 20,
   "id": "a12970ad",
   "metadata": {},
   "outputs": [
    {
     "name": "stdout",
     "output_type": "stream",
     "text": [
      "Processing batch 1/51...\n",
      "Batch 1 processed. Waiting for 30 seconds...\n",
      "Processing batch 2/51...\n",
      "Batch 2 processed. Waiting for 30 seconds...\n",
      "Processing batch 3/51...\n",
      "Batch 3 processed. Waiting for 30 seconds...\n",
      "Processing batch 4/51...\n",
      "Batch 4 processed. Waiting for 30 seconds...\n",
      "Processing batch 5/51...\n",
      "Batch 5 processed. Waiting for 30 seconds...\n",
      "Processing batch 6/51...\n",
      "Batch 6 processed. Waiting for 30 seconds...\n",
      "Processing batch 7/51...\n",
      "Batch 7 processed. Waiting for 30 seconds...\n",
      "Processing batch 8/51...\n",
      "Batch 8 processed. Waiting for 30 seconds...\n",
      "Processing batch 9/51...\n",
      "Batch 9 processed. Waiting for 30 seconds...\n",
      "Processing batch 10/51...\n",
      "Batch 10 processed. Waiting for 30 seconds...\n",
      "Processing batch 11/51...\n",
      "Batch 11 processed. Waiting for 30 seconds...\n",
      "Processing batch 12/51...\n",
      "Batch 12 processed. Waiting for 30 seconds...\n",
      "Processing batch 13/51...\n",
      "Batch 13 processed. Waiting for 30 seconds...\n",
      "Processing batch 14/51...\n",
      "Batch 14 processed. Waiting for 30 seconds...\n",
      "Processing batch 15/51...\n",
      "Batch 15 processed. Waiting for 30 seconds...\n",
      "Processing batch 16/51...\n",
      "Batch 16 processed. Waiting for 30 seconds...\n",
      "Processing batch 17/51...\n",
      "Batch 17 processed. Waiting for 30 seconds...\n",
      "Processing batch 18/51...\n",
      "Batch 18 processed. Waiting for 30 seconds...\n",
      "Processing batch 19/51...\n",
      "Batch 19 processed. Waiting for 30 seconds...\n",
      "Processing batch 20/51...\n",
      "Batch 20 processed. Waiting for 30 seconds...\n",
      "Processing batch 21/51...\n",
      "Batch 21 processed. Waiting for 30 seconds...\n",
      "Processing batch 22/51...\n",
      "Batch 22 processed. Waiting for 30 seconds...\n",
      "Processing batch 23/51...\n",
      "Batch 23 processed. Waiting for 30 seconds...\n",
      "Processing batch 24/51...\n",
      "Batch 24 processed. Waiting for 30 seconds...\n",
      "Processing batch 25/51...\n",
      "Batch 25 processed. Waiting for 30 seconds...\n",
      "Processing batch 26/51...\n",
      "Batch 26 processed. Waiting for 30 seconds...\n",
      "Processing batch 27/51...\n",
      "Batch 27 processed. Waiting for 30 seconds...\n",
      "Processing batch 28/51...\n",
      "Batch 28 processed. Waiting for 30 seconds...\n",
      "Processing batch 29/51...\n",
      "Batch 29 processed. Waiting for 30 seconds...\n",
      "Processing batch 30/51...\n",
      "Batch 30 processed. Waiting for 30 seconds...\n",
      "Processing batch 31/51...\n",
      "Batch 31 processed. Waiting for 30 seconds...\n",
      "Processing batch 32/51...\n",
      "Batch 32 processed. Waiting for 30 seconds...\n",
      "Processing batch 33/51...\n",
      "Batch 33 processed. Waiting for 30 seconds...\n",
      "Processing batch 34/51...\n",
      "Batch 34 processed. Waiting for 30 seconds...\n",
      "Processing batch 35/51...\n",
      "Batch 35 processed. Waiting for 30 seconds...\n",
      "Processing batch 36/51...\n",
      "Batch 36 processed. Waiting for 30 seconds...\n",
      "Processing batch 37/51...\n",
      "Batch 37 processed. Waiting for 30 seconds...\n",
      "Processing batch 38/51...\n",
      "Batch 38 processed. Waiting for 30 seconds...\n",
      "Processing batch 39/51...\n",
      "Batch 39 processed. Waiting for 30 seconds...\n",
      "Processing batch 40/51...\n",
      "Batch 40 processed. Waiting for 30 seconds...\n",
      "Processing batch 41/51...\n",
      "Batch 41 processed. Waiting for 30 seconds...\n",
      "Processing batch 42/51...\n",
      "Batch 42 processed. Waiting for 30 seconds...\n",
      "Processing batch 43/51...\n",
      "Batch 43 processed. Waiting for 30 seconds...\n",
      "Processing batch 44/51...\n",
      "Batch 44 processed. Waiting for 30 seconds...\n",
      "Processing batch 45/51...\n",
      "Batch 45 processed. Waiting for 30 seconds...\n",
      "Processing batch 46/51...\n",
      "Batch 46 processed. Waiting for 30 seconds...\n",
      "Processing batch 47/51...\n",
      "Batch 47 processed. Waiting for 30 seconds...\n",
      "Processing batch 48/51...\n",
      "Batch 48 processed. Waiting for 30 seconds...\n",
      "Processing batch 49/51...\n",
      "Batch 49 processed. Waiting for 30 seconds...\n",
      "Processing batch 50/51...\n",
      "Batch 50 processed. Waiting for 30 seconds...\n",
      "Processing batch 51/51...\n",
      "Batch 51 processed. Waiting for 30 seconds...\n",
      "Vector database created successfully and saved to the specified directory.\n"
     ]
    }
   ],
   "source": [
    "from langchain.document_loaders.csv_loader import CSVLoader\n",
    "import time\n",
    "# Import the Chroma class, which is used to create and interact with a Chroma vector database.\n",
    "from langchain_chroma import Chroma\n",
    "\n",
    "# Import the GoogleGenerativeAIEmbeddings class to create numerical vector representations (embeddings) of text using Google's models.\n",
    "from langchain_google_genai import GoogleGenerativeAIEmbeddings\n",
    "\n",
    "\n",
    "REVIEWS_CSV_PATH = \"reviews.csv\"\n",
    "\n",
    "# Define a constant variable for the directory where the Chroma vector database will be stored.\n",
    "REVIEWS_CHROMA_PATH = \"chroma_data\"\n",
    "\n",
    "\n",
    "# Create an instance of the CSVLoader.\n",
    "loader = CSVLoader(\n",
    "    file_path=REVIEWS_CSV_PATH,  # Specify the path to the CSV file to be loaded.\n",
    "    source_column=\"review\"       # Specify the name of the column that contains the main text content.\n",
    ")\n",
    "\n",
    "# Call the .load() method on the loader instance.\n",
    "# This reads the specified column from the CSV file and loads the content into a list of Document objects.\n",
    "reviews = loader.load()\n",
    "\n",
    "# Specify the embedding function to use. We define it once to be reused.\n",
    "embedding_function = GoogleGenerativeAIEmbeddings(\n",
    "    model=\"models/gemini-embedding-001\",  # Choose the specific embedding model provided by Google.\n",
    "    google_api_key=api_key  # Securely fetch the Google API key.\n",
    ")\n",
    "\n",
    "# Set the size of each batch to process.\n",
    "batch_size = 20\n",
    "# Calculate the total number of batches.\n",
    "num_batches = (len(reviews) - 1) // batch_size + 1\n",
    "reviews_vector_db = None\n",
    "\n",
    "# Loop through the documents in batches to avoid hitting the API's rate limit.\n",
    "for i in range(0, len(reviews), batch_size):\n",
    "    # Get the current batch of documents.\n",
    "    batch_docs = reviews[i:i + batch_size]\n",
    "    current_batch_num = i // batch_size + 1\n",
    "\n",
    "    print(f\"Processing batch {current_batch_num}/{num_batches}...\")\n",
    "\n",
    "    if i == 0:\n",
    "        # For the first batch, create a new Chroma vector database.\n",
    "        # The `from_documents` method handles the entire process of embedding and storing the data.\n",
    "        reviews_vector_db = Chroma.from_documents(\n",
    "            documents=batch_docs,  # Pass the list of Document objects that need to be embedded.\n",
    "            embedding=embedding_function,\n",
    "            # Specify the directory on the disk where the vector database will be saved.\n",
    "            # This makes the database persistent, so we can load it directly in the future.\n",
    "            persist_directory=REVIEWS_CHROMA_PATH\n",
    "        )\n",
    "    else:\n",
    "        # For subsequent batches, add the documents to the existing database.\n",
    "        reviews_vector_db.add_documents(documents=batch_docs)\n",
    "\n",
    "    # Pause the script for 30 seconds after each batch to respect the per-minute rate limit.\n",
    "    print(f\"Batch {current_batch_num} processed. Waiting for 30 seconds...\")\n",
    "    time.sleep(30)\n",
    "\n",
    "print(\"Vector database created successfully and saved to the specified directory.\")"
   ]
  },
  {
   "cell_type": "code",
   "execution_count": 3,
   "id": "7b363218",
   "metadata": {},
   "outputs": [],
   "source": [
    "from langchain_core.prompts import PromptTemplate\n",
    "from langchain.schema.runnable import RunnablePassthrough\n",
    "from langchain_core.output_parsers import StrOutputParser "
   ]
  },
  {
   "cell_type": "code",
   "execution_count": 4,
   "id": "c7ea030d",
   "metadata": {},
   "outputs": [],
   "source": [
    "review_template_str = \"\"\"Your job is to use patient reviews to answer questions about their experience at a hospital.\n",
    "Use the following context to answer questions.\n",
    "Be as detailed as possible, but don't make up any information that's not from the context.\n",
    "If you don't know an answer, say you don't know.\n",
    "\n",
    "context: {context}, question: {query}\n",
    "\"\"\"\n",
    "\n",
    "prompt = PromptTemplate(\n",
    "    template=review_template_str,\n",
    "    input_variables=[\"context\", \"query\"]\n",
    ")"
   ]
  },
  {
   "cell_type": "code",
   "execution_count": 6,
   "id": "51bea666",
   "metadata": {},
   "outputs": [],
   "source": [
    "api_key=os.getenv('GOOGLE_API_KEY')"
   ]
  },
  {
   "cell_type": "code",
   "execution_count": 7,
   "id": "5fabbfc2",
   "metadata": {},
   "outputs": [],
   "source": [
    "from langchain_google_genai import ChatGoogleGenerativeAI\n",
    "chat_model = ChatGoogleGenerativeAI(model=\"gemini-2.5-flash\",\n",
    "                                    google_api_key=api_key)"
   ]
  },
  {
   "cell_type": "code",
   "execution_count": 8,
   "id": "0e90949a",
   "metadata": {},
   "outputs": [],
   "source": [
    "from langchain_google_genai import GoogleGenerativeAIEmbeddings\n",
    "from langchain_chroma import Chroma"
   ]
  },
  {
   "cell_type": "code",
   "execution_count": 9,
   "id": "8b406abe",
   "metadata": {},
   "outputs": [],
   "source": [
    "REVIEWS_CHROMA_PATH = \"chroma_data\"\n",
    "embedding_function = GoogleGenerativeAIEmbeddings(\n",
    "    model=\"models/gemini-embedding-001\",\n",
    "    google_api_key=api_key  \n",
    ")\n",
    "reviews_vector_db = Chroma(\n",
    "    persist_directory=REVIEWS_CHROMA_PATH,\n",
    "    embedding_function=embedding_function\n",
    ")"
   ]
  },
  {
   "cell_type": "code",
   "execution_count": 10,
   "id": "b69a71aa",
   "metadata": {},
   "outputs": [],
   "source": [
    "reviews_retriever = reviews_vector_db.as_retriever(search_type=\"similarity\", search_kwargs={\"k\": 10})\n",
    "\n",
    "chain = (\n",
    "    {\"context\": reviews_retriever, \"query\": RunnablePassthrough()}\n",
    "    | prompt\n",
    "    | chat_model\n",
    "    | StrOutputParser()\n",
    ")"
   ]
  },
  {
   "cell_type": "code",
   "execution_count": 20,
   "id": "c232acbb",
   "metadata": {},
   "outputs": [
    {
     "name": "stdout",
     "output_type": "stream",
     "text": [
      "Yes, several patients have complained about communication with the hospital staff. Here are the details from the reviews:\n",
      "\n",
      "*   **Makayla Reynolds (review_id: 707)** encountered issues with the nursing staff's communication, noting a lack of coordination that led to confusion about her medication schedule and treatment plan at Brown-Golden.\n",
      "*   **Dennis Fitzgerald (review_id: 43)** stated that the hospital staff lacked proper communication among themselves, causing confusion about his treatment plan at Shea LLC.\n",
      "*   **Jessica Mays (review_id: 773)** experienced communication issues during her stay, finding the medical staff disorganized, which led to confusion about her treatment plan at Rush, Owens and Johnson.\n",
      "*   **Terri Smith (review_id: 73)** had a frustrating experience due to unclear communication between the medical staff and herself, leading to misunderstandings about her treatment plan at Little-Spencer.\n",
      "*   **Jacob Smith (review_id: 1001)** was disappointed with the lack of communication between different departments, which caused confusion about his treatment plan and discharge instructions at Wallace-Hamilton.\n",
      "*   **Cameron Bailey (review_id: 689)** noted a lack of communication between departments, feeling that each department operated independently, leading to delays in treatment and discharge at Jordan Inc.\n",
      "*   **Eric Duncan (review_id: 977)** was disappointed with the lack of communication between different departments, leading to confusion about his treatment plan and discharge instructions at Richardson-Powell.\n",
      "*   **Daniel Harris (review_id: 954)** had a less than satisfactory experience due to poor communication among the staff, which led to confusion about his treatment plan at Bell, Mcknight and Willis.\n",
      "*   **Kurt Gordon (review_id: 521)** felt frustrated and confused about his treatment plan due to the lack of communication between the staff and himself at Richardson-Powell.\n",
      "*   **William Thompson (review_id: 197)** found the communication between the medical team and the administrative staff to be lacking, resulting in confusion and frustration at Cunningham and Sons.\n"
     ]
    }
   ],
   "source": [
    "question = \"\"\"Has anyone complained about communication with the hospital staff?\"\"\"\n",
    "print(chain.invoke(question))"
   ]
  },
  {
   "cell_type": "code",
   "execution_count": 21,
   "id": "5616b86d",
   "metadata": {},
   "outputs": [
    {
     "name": "stdout",
     "output_type": "stream",
     "text": [
      "I don't know.\n"
     ]
    }
   ],
   "source": [
    "question = \"What is the capital of France?\"\n",
    "print(chain.invoke(question))"
   ]
  },
  {
   "cell_type": "code",
   "execution_count": 22,
   "id": "2b433022",
   "metadata": {},
   "outputs": [
    {
     "name": "stdout",
     "output_type": "stream",
     "text": [
      "Q: Has anyone complained about communication with the hospital staff?\n",
      "A: Yes, several patients have complained about communication with the hospital staff.\n",
      "\n",
      "Here are the details from the reviews:\n",
      "\n",
      "*   **Makayla Reynolds (review_id: 707)** encountered issues with the **nursing staff's communication**, noting a lack of coordination that led to confusion about her medication schedule and treatment plan.\n",
      "*   **Dennis Fitzgerald (review_id: 43)** stated that the **hospital staff lacked proper communication among themselves**, which caused confusion about his treatment plan.\n",
      "*   **Jessica Mays (review_id: 773)** reported communication issues during her stay, observing that the **medical staff seemed disorganized**, leading to confusion about her treatment plan.\n",
      "*   **Terri Smith (review_id: 73)** had a frustrating experience due to **unclear communication between the medical staff and her**, resulting in misunderstandings about her treatment plan.\n",
      "*   **Jacob Smith (review_id: 1001)** was disappointed with the **lack of communication between different departments in the hospital**, which led to confusion about his treatment plan and discharge instructions.\n",
      "*   **Cameron Bailey (review_id: 689)** experienced a lack of **communication between departments**, feeling that each department operated independently, causing delays in his treatment and discharge process.\n",
      "*   **Eric Duncan (review_id: 977)** was disappointed with the **lack of communication between different departments in the hospital**, leading to confusion about his treatment plan and discharge instructions.\n",
      "*   **Daniel Harris (review_id: 954)** had a less than satisfactory experience because **communication among the staff was poor**, causing confusion about his treatment plan.\n",
      "*   **Kurt Gordon (review_id: 521)** felt frustrated and confused about his treatment plan due to the **lack of communication between the staff and him**.\n",
      "*   **William Thompson (review_id: 197)** found his experience disappointing due to **lacking communication between the medical team and the administrative staff**, leading to confusion and frustration.\n",
      "----------------------------------------\n",
      "Q: What do patients say about the cleanliness of the hospital?\n",
      "A: Patients have varied experiences regarding the cleanliness of the hospital:\n",
      "\n",
      "**Positive Feedback:**\n",
      "*   Some patients were pleasantly surprised by the cleanliness of the hospital facilities, noting that the janitorial staff did an outstanding job maintaining a hygienic environment.\n",
      "*   The cleanliness of the hospital impressed some patients.\n",
      "*   Several patients observed the hospital's commitment to patient safety, evident in strict adherence to hygiene protocols, which gave them confidence in the cleanliness of the facilities.\n",
      "*   The hospital's cleanliness and hygiene standards were described as impeccable or impressive by some.\n",
      "*   One patient felt secure throughout their stay due to the hospital's commitment to patient safety and staff's dedication to cleanliness.\n",
      "\n",
      "**Negative Feedback:**\n",
      "*   Conversely, some patients' stays were marred by a lack of cleanliness in the facilities or their rooms.\n",
      "*   It was noted that facilities were not properly maintained, and the lack of hygiene was a concern, given its importance in a healthcare setting.\n",
      "*   One patient was disappointed with the cleanliness of the hospital, specifically mentioning a concern about the lack of hygiene.\n",
      "\n",
      "**Mixed Feedback:**\n",
      "*   One patient noted the hospital's evident commitment to cleanliness but felt that the lack of greenery and natural light in the patient rooms made the environment feel a bit sterile.\n",
      "----------------------------------------\n",
      "Q: Are there any positive comments about the doctors?\n",
      "A: Yes, there are several positive comments about the doctors:\n",
      "\n",
      "*   The doctors were thorough in their examinations. (review\\_id: 486, 236, 743)\n",
      "*   The doctors were knowledgeable. (review\\_id: 747, 236, 953, 331, 718)\n",
      "*   The hospital's medical team (which includes doctors) was knowledgeable and compassionate. (review\\_id: 924)\n",
      "*   The hospital staff, from doctors to janitors, was friendly and helpful. (review\\_id: 155)\n",
      "----------------------------------------\n",
      "Q: Did anyone mention waiting times?\n",
      "A: Yes, waiting times were mentioned by multiple patients.\n",
      "\n",
      "Here's a summary of what was said regarding waiting times:\n",
      "*   **Lisa Lowery (review_id: 672)** was disappointed with long wait times in the emergency room, stating it felt like hours before receiving attention.\n",
      "*   **Dylan Alvarez (review_id: 923)** noted that waiting times for tests and consultations were longer than expected.\n",
      "*   **Dan Potter (review_id: 150)** experienced quite long wait times for tests and results, which added unnecessary stress.\n",
      "*   **Kyle Arnold (review_id: 386)** found the waiting times for test results longer than anticipated.\n",
      "*   **Cindy Lowe (review_id: 988)** highlighted long wait times in the emergency room as a drawback.\n",
      "*   **Gregory Oliver (review_id: 285)** found the wait times quite long and frustrating, specifically for tests and consultations.\n",
      "*   **Sandra Smith (review_id: 615)** described the waiting times as frustratingly long.\n",
      "*   **William Barber (review_id: 987)** mentioned delays in getting test results, which prolonged anxiety.\n",
      "*   **Jermaine Reyes (review_id: 23)** noted extended wait times for routine procedures as a drawback.\n",
      "*   **Patrick Cook (review_id: 49)** experienced a delay in receiving test results, causing anxiety.\n",
      "----------------------------------------\n",
      "Q: How do patients feel about the food served?\n",
      "A: Most patients expressed dissatisfaction with the food served at the hospital.\n",
      "\n",
      "Common complaints include:\n",
      "*   The cafeteria food was disappointing (review_id: 986).\n",
      "*   Lack of vegetarian options in the cafeteria was a disappointment (review_id: 760).\n",
      "*   The lack of variety in the cafeteria menu made dining options repetitive and uninspiring (review_id: 363).\n",
      "*   The cafeteria food was bland and the menu was repetitive (review_id: 828).\n",
      "*   The cafeteria food left much to be desired, with limited healthy options (review_id: 160).\n",
      "*   Food options were limited and not very appetizing (review_id: 616).\n",
      "*   The cafeteria food left much to be desired, leading one patient to order from outside frequently (review_id: 343).\n",
      "*   The cafeteria food generally left much to be desired (review_ids: 658, 626).\n",
      "\n",
      "However, one patient had a positive experience, stating they were pleasantly surprised by the quality of food, which exceeded their expectations, and noted that the dietary staff accommodated their special requests (review_id: 36).\n",
      "----------------------------------------\n"
     ]
    }
   ],
   "source": [
    "questions = [\n",
    "    \"Has anyone complained about communication with the hospital staff?\",\n",
    "    \"What do patients say about the cleanliness of the hospital?\",\n",
    "    \"Are there any positive comments about the doctors?\",\n",
    "    \"Did anyone mention waiting times?\",\n",
    "    \"How do patients feel about the food served?\"\n",
    "]\n",
    "for q in questions:\n",
    "    print(f\"Q: {q}\")\n",
    "    print(\"A:\", chain.invoke(q))\n",
    "    print(\"-\" * 40)"
   ]
  },
  {
   "cell_type": "code",
   "execution_count": 11,
   "id": "aa0f9749",
   "metadata": {},
   "outputs": [],
   "source": [
    "def respond_to_user_question(question: str, history: list) -> str:\n",
    "    \"\"\"\n",
    "    Respond to a user's question using the review_chain.\n",
    "    \"\"\"\n",
    "    return chain.invoke(question)"
   ]
  },
  {
   "cell_type": "code",
   "execution_count": null,
   "id": "fe078b7d",
   "metadata": {},
   "outputs": [
    {
     "name": "stderr",
     "output_type": "stream",
     "text": [
      "c:\\Users\\Akshat\\anaconda3\\envs\\medichat\\lib\\site-packages\\gradio\\chat_interface.py:347: UserWarning: The 'tuples' format for chatbot messages is deprecated and will be removed in a future version of Gradio. Please set type='messages' instead, which uses openai-style 'role' and 'content' keys.\n",
      "  self.chatbot = Chatbot(\n"
     ]
    },
    {
     "name": "stdout",
     "output_type": "stream",
     "text": [
      "* Running on local URL:  http://127.0.0.1:7860\n",
      "* To create a public link, set `share=True` in `launch()`.\n"
     ]
    },
    {
     "data": {
      "text/html": [
       "<div><iframe src=\"http://127.0.0.1:7860/\" width=\"100%\" height=\"500\" allow=\"autoplay; camera; microphone; clipboard-read; clipboard-write;\" frameborder=\"0\" allowfullscreen></iframe></div>"
      ],
      "text/plain": [
       "<IPython.core.display.HTML object>"
      ]
     },
     "metadata": {},
     "output_type": "display_data"
    }
   ],
   "source": [
    "import gradio as gr\n",
    "# Create the Gradio ChatInterface\n",
    "interface = gr.ChatInterface(fn=respond_to_user_question, title=\"Review Helper Bot\")\n",
    "\n",
    "# Launch the Gradio app\n",
    "interface.launch(debug=True)"
   ]
  },
  {
   "cell_type": "code",
   "execution_count": null,
   "id": "692096a9",
   "metadata": {},
   "outputs": [],
   "source": []
  }
 ],
 "metadata": {
  "kernelspec": {
   "display_name": "medichat",
   "language": "python",
   "name": "python3"
  },
  "language_info": {
   "codemirror_mode": {
    "name": "ipython",
    "version": 3
   },
   "file_extension": ".py",
   "mimetype": "text/x-python",
   "name": "python",
   "nbconvert_exporter": "python",
   "pygments_lexer": "ipython3",
   "version": "3.10.18"
  }
 },
 "nbformat": 4,
 "nbformat_minor": 5
}
